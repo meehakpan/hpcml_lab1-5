{
 "cells": [
  {
   "cell_type": "code",
   "execution_count": 1,
   "metadata": {},
   "outputs": [
    {
     "name": "stderr",
     "output_type": "stream",
     "text": [
      "WARNING: Logging before flag parsing goes to stderr.\n",
      "W0512 10:00:41.073614 140277278357312 module_wrapper.py:138] From /home/student/.local/lib/python3.6/site-packages/tensorflow_gan/python/estimator/tpu_gan_estimator.py:42: The name tf.estimator.tpu.TPUEstimator is deprecated. Please use tf.compat.v1.estimator.tpu.TPUEstimator instead.\n",
      "\n"
     ]
    }
   ],
   "source": [
    "import tensorflow as tf\n",
    "import tensorflow_probability\n",
    "import numpy as np\n",
    "import tensorflow.keras.layers as layers\n",
    "from tensorflow.python.framework.ops import EagerTensor\n",
    "from random import random\n",
    "from matplotlib import pyplot as plt\n",
    "import matplotlib.gridspec as gridspec\n",
    "%matplotlib inline\n",
    "from tqdm.notebook import tqdm\n",
    "import tensorflow_gan as tfgan\n",
    "from tensorflow.compat.v1.train import AdamOptimizer"
   ]
  },
  {
   "cell_type": "code",
   "execution_count": 2,
   "metadata": {},
   "outputs": [],
   "source": [
    "BATCH_SIZE = 32\n",
    "NOISE_DIM = 32\n",
    "MODEL_DIR = 'models'\n",
    "RUN_CONFIG = tf.estimator.RunConfig(save_summary_steps=None, save_checkpoints_secs=None, save_checkpoints_steps=500)"
   ]
  },
  {
   "cell_type": "code",
   "execution_count": 3,
   "metadata": {},
   "outputs": [],
   "source": [
    "def add_random_noise(image):\n",
    "    return tf.random.normal([NOISE_DIM]), image\n",
    "\n",
    "def load_dataset(batch_size):\n",
    "    (train_images, _), (_, _) = tf.keras.datasets.cifar10.load_data()\n",
    "    train_images = train_images.reshape([-1, 32, 32, 3]).astype('float32')\n",
    "    train_images = train_images/127.5  - 1    \n",
    "    dataset = tf.data.Dataset.from_tensor_slices(train_images)\n",
    "    dataset = dataset.map(add_random_noise)\n",
    "    dataset = dataset.cache()\n",
    "    dataset = dataset.shuffle(len(train_images))\n",
    "    dataset = dataset.batch(batch_size, drop_remainder=True)\n",
    "    dataset = dataset.prefetch(1)\n",
    "    dataset = dataset.repeat(None)\n",
    "    return dataset\n",
    "\n",
    "def plot_sample(images):\n",
    "    num_samples = min(32, len(images))\n",
    "\n",
    "    grid = gridspec.GridSpec(1, num_samples)\n",
    "    grid.update(left=0, bottom=0, top=1, right=1, wspace=0.01, hspace=0.01)\n",
    "    fig = plt.figure(figsize=[num_samples, 1])\n",
    "    \n",
    "    for y in range(num_samples):\n",
    "        ax = fig.add_subplot(grid[0, y])\n",
    "        ax.set_axis_off()\n",
    "        ax.imshow((images[y] + 1.0)/2)\n",
    "    plt.show()\n"
   ]
  },
  {
   "cell_type": "code",
   "execution_count": 8,
   "metadata": {},
   "outputs": [
    {
     "ename": "NameError",
     "evalue": "name 'load_dataset' is not defined",
     "output_type": "error",
     "traceback": [
      "\u001b[0;31m---------------------------------------------------------------------------\u001b[0m",
      "\u001b[0;31mNameError\u001b[0m                                 Traceback (most recent call last)",
      "\u001b[0;32m<ipython-input-8-0c879974f0ba>\u001b[0m in \u001b[0;36m<module>\u001b[0;34m\u001b[0m\n\u001b[0;32m----> 1\u001b[0;31m \u001b[0mdataset\u001b[0m \u001b[0;34m=\u001b[0m \u001b[0mload_dataset\u001b[0m\u001b[0;34m(\u001b[0m\u001b[0mBATCH_SIZE\u001b[0m\u001b[0;34m)\u001b[0m\u001b[0;34m\u001b[0m\u001b[0;34m\u001b[0m\u001b[0m\n\u001b[0m\u001b[1;32m      2\u001b[0m \u001b[0;32mfor\u001b[0m \u001b[0mnoise\u001b[0m\u001b[0;34m,\u001b[0m \u001b[0msample\u001b[0m \u001b[0;32min\u001b[0m \u001b[0mdataset\u001b[0m\u001b[0;34m:\u001b[0m\u001b[0;34m\u001b[0m\u001b[0;34m\u001b[0m\u001b[0m\n\u001b[1;32m      3\u001b[0m     \u001b[0mplot_sample\u001b[0m\u001b[0;34m(\u001b[0m\u001b[0msample\u001b[0m\u001b[0;34m)\u001b[0m\u001b[0;34m\u001b[0m\u001b[0;34m\u001b[0m\u001b[0m\n\u001b[1;32m      4\u001b[0m     \u001b[0;32mbreak\u001b[0m\u001b[0;34m\u001b[0m\u001b[0;34m\u001b[0m\u001b[0m\n\u001b[1;32m      5\u001b[0m \u001b[0;34m\u001b[0m\u001b[0m\n",
      "\u001b[0;31mNameError\u001b[0m: name 'load_dataset' is not defined"
     ]
    }
   ],
   "source": [
    "dataset = load_dataset(BATCH_SIZE)\n",
    "for noise, sample in dataset:\n",
    "    plot_sample(sample)\n",
    "    break\n",
    "\n",
    "def generator_model():\n",
    "    z_in = tf.keras.Input(shape=(NOISE_DIM,))\n",
    "    \n",
    "    outputs = []\n",
    "\n",
    "    x = layers.Dense(32*32*256)(z_in)\n",
    "    x = layers.BatchNormalization()(x)\n",
    "    x = layers.LeakyReLU()(x)\n",
    "    x = layers.Reshape((32, 32, 256))(x)\n",
    "\n",
    "    x = layers.Conv2DTranspose(128, (5, 5), strides=(1, 1),\n",
    "        padding='same')(x)\n",
    "    x = layers.BatchNormalization()(x)\n",
    "    x = layers.LeakyReLU()(x)\n",
    "\n",
    "    x = layers.Conv2D(128, (5, 5), strides=(1, 1), padding='same')(x)\n",
    "    x = layers.BatchNormalization()(x)\n",
    "    x = layers.LeakyReLU()(x)\n",
    "\n",
    "    x = layers.Conv2DTranspose(3, (5, 5), strides=(1, 1),\n",
    "        padding='same', activation='tanh')(x)\n",
    "\n",
    "    model = tf.keras.Model(inputs=z_in, outputs=x)\n",
    "    return model\n"
   ]
  },
  {
   "cell_type": "code",
   "execution_count": null,
   "metadata": {},
   "outputs": [],
   "source": [
    "def discriminator_model():\n",
    "    input = tf.keras.Input(shape=(32, 32, 3))\n",
    "\n",
    "    x = layers.Conv2D(64, (5, 5), strides=(2, 2),\n",
    "        padding='same')(input)\n",
    "    x = layers.LeakyReLU()(x)\n",
    "    x = layers.Dropout(0.3)(x)\n",
    "    \n",
    "    x = layers.Conv2D(128, (3, 3), strides=(1, 1), padding='same')(x)\n",
    "    x = layers.LeakyReLU()(x)\n",
    "    x = layers.Dropout(0.3)(x)\n",
    "\n",
    "    x = layers.Conv2D(64, (5, 5), strides=(2, 2), padding='same')(x)\n",
    "    x = layers.LeakyReLU()(x)\n",
    "    x = layers.Dropout(0.3)(x)\n",
    "\n",
    "    x = layers.Flatten()(x)\n",
    "    out = layers.Dense(3)(x)\n",
    "    \n",
    "    model = tf.keras.Model(inputs=input, outputs=out)\n",
    "    return model\n",
    "\n",
    "def generator_fn(input):\n",
    "    model = generator_model()\n",
    "    return model(input, training=True)\n",
    "\n",
    "#FIXME:\n",
    "def discriminator_fn(generated_data, input):\n",
    "    model = discriminator_model()\n",
    "    return model(generated_data, training=True)\n",
    "\n",
    "def input_fn():\n",
    "    dataset = load_dataset(BATCH_SIZE)\n",
    "    return dataset\n",
    "\n",
    "tf.compat.v1.disable_eager_execution()\n",
    "tf.estimator.ProfilerHook(output_dir=MODEL_DIR, save_steps=100, show_memory=False)\n",
    "estimator = tfgan.estimator.GANEstimator(model_dir=MODEL_DIR,\n",
    "               generator_fn=generator_fn,\n",
    "               discriminator_fn=discriminator_fn,\n",
    "               generator_loss_fn=tfgan.losses.wasserstein_generator_loss,\n",
    "               discriminator_loss_fn=tfgan.losses.wasserstein_discriminator_loss,\n",
    "               generator_optimizer=AdamOptimizer(1e-3),\n",
    "               discriminator_optimizer=AdamOptimizer(1e-3),\n",
    "               warm_start_from='models/model.ckpt',\n",
    "               config=RUN_CONFIG)\n",
    "\n",
    "estimator.train(input_fn, max_steps=500)\n",
    "\n",
    "def predict_input_fn():\n",
    "    noise = tf.random.normal([BATCH_SIZE, NOISE_DIM])\n",
    "    return noise\n",
    "\n",
    "prediction_iterable = estimator.predict(predict_input_fn)\n",
    "predictions = np.array([next(prediction_iterable) for _ in range(32)])\n",
    "\n",
    "plot_sample(predictions)\n"
   ]
  }
 ],
 "metadata": {
  "kernelspec": {
   "display_name": "Python 3",
   "language": "python",
   "name": "python3"
  },
  "language_info": {
   "codemirror_mode": {
    "name": "ipython",
    "version": 3
   },
   "file_extension": ".py",
   "mimetype": "text/x-python",
   "name": "python",
   "nbconvert_exporter": "python",
   "pygments_lexer": "ipython3",
   "version": "3.6.9"
  }
 },
 "nbformat": 4,
 "nbformat_minor": 2
}
